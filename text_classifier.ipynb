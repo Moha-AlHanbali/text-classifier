{
 "cells": [
  {
   "cell_type": "markdown",
   "metadata": {},
   "source": [
    "# Lab: 16 - Machine Learning Intro\n",
    "## text_classifier - Mohammed Al-Hanbali - 31/10/2021"
   ]
  },
  {
   "cell_type": "markdown",
   "metadata": {},
   "source": [
    "### **NOTE:**\n",
    "**For the sake of practice, I created a separate model for each data set instead of creating one function that applies to all data sets as was done in the tutorial.**"
   ]
  },
  {
   "cell_type": "code",
   "execution_count": 198,
   "metadata": {},
   "outputs": [],
   "source": [
    "import pandas as pd\n",
    "from sklearn.feature_extraction.text import CountVectorizer\n",
    "from sklearn.model_selection import train_test_split\n",
    "from sklearn.linear_model import LogisticRegression"
   ]
  },
  {
   "cell_type": "markdown",
   "metadata": {},
   "source": [
    "### Reading data from sources"
   ]
  },
  {
   "cell_type": "code",
   "execution_count": 199,
   "metadata": {},
   "outputs": [],
   "source": [
    "filepath = {\n",
    "    \"yelp\": \"yelp_labelled.txt\",\n",
    "    \"amazon\": \"amazon_cells_labelled.txt\",\n",
    "    \"imdb\": \"imdb_labelled.txt\",\n",
    "}\n",
    "\n",
    "data_list = []\n",
    "\n",
    "for source, path in filepath.items():\n",
    "    review_data = pd.read_csv(path, names = [\"sentences\", \"label\"], sep = \"\\t\")\n",
    "    review_data[\"source\"] = source\n",
    "    data_list.append(review_data)\n",
    "\n",
    "\n",
    "review_data = pd.concat(data_list)"
   ]
  },
  {
   "cell_type": "markdown",
   "metadata": {},
   "source": [
    "### Separating Data By Source"
   ]
  },
  {
   "cell_type": "code",
   "execution_count": 200,
   "metadata": {},
   "outputs": [],
   "source": [
    "yelp_data = review_data[review_data[\"source\"] == \"yelp\"]\n",
    "amazon_data = review_data[review_data[\"source\"] == \"amazon\"]\n",
    "imdb_data = review_data[review_data[\"source\"] == \"imdb\"]"
   ]
  },
  {
   "cell_type": "markdown",
   "metadata": {},
   "source": [
    "### Reshaping Data"
   ]
  },
  {
   "cell_type": "code",
   "execution_count": 201,
   "metadata": {},
   "outputs": [],
   "source": [
    "yelp_X = yelp_data[\"sentences\"].values\n",
    "yelp_y = yelp_data[\"label\"].values\n",
    "\n",
    "amazon_X = amazon_data[\"sentences\"].values\n",
    "amazon_y = amazon_data[\"label\"].values\n",
    "\n",
    "imdb_X = imdb_data[\"sentences\"].values\n",
    "imdb_y = imdb_data[\"label\"].values"
   ]
  },
  {
   "cell_type": "markdown",
   "metadata": {},
   "source": [
    "### Splitting Data"
   ]
  },
  {
   "cell_type": "code",
   "execution_count": 202,
   "metadata": {},
   "outputs": [],
   "source": [
    "yelp_x_train, yelp_x_test, yelp_y_train, yelp_y_test = train_test_split(yelp_X, yelp_y, test_size = 0.3, random_state = 50)\n",
    "\n",
    "amazon_x_train, amazon_x_test, amazon_y_train, amazon_y_test = train_test_split(amazon_X, amazon_y, test_size = 0.3, random_state = 80)\n",
    "\n",
    "imdb_x_train, imdb_x_test, imdb_y_train, imdb_y_test = train_test_split(imdb_X, imdb_y, test_size = 0.3, random_state = 45)"
   ]
  },
  {
   "cell_type": "markdown",
   "metadata": {},
   "source": [
    "### Vectorizing Data"
   ]
  },
  {
   "cell_type": "code",
   "execution_count": 203,
   "metadata": {},
   "outputs": [],
   "source": [
    "vectorize_yelp = CountVectorizer(min_df = 0, lowercase=False)\n",
    "vectorize_yelp.fit(yelp_x_train)\n",
    "\n",
    "yelp_X_train = vectorize_yelp.transform(yelp_x_train)\n",
    "yelp_X_test = vectorize_yelp.transform(yelp_x_test)\n",
    "\n",
    "\n",
    "\n",
    "vectorize_amazon = CountVectorizer(min_df = 0, lowercase=False)\n",
    "vectorize_amazon.fit(amazon_x_train)\n",
    "\n",
    "amazon_X_train = vectorize_amazon.transform(amazon_x_train)\n",
    "amazon_X_test = vectorize_amazon.transform(amazon_x_test)\n",
    "\n",
    "\n",
    "\n",
    "vectorize_imdb = CountVectorizer(min_df = 0, lowercase=False)\n",
    "vectorize_imdb.fit(imdb_x_train)\n",
    "\n",
    "imdb_X_train = vectorize_imdb.transform(imdb_x_train)\n",
    "imdb_X_test = vectorize_imdb.transform(imdb_x_test)\n",
    "\n"
   ]
  },
  {
   "cell_type": "markdown",
   "metadata": {},
   "source": [
    "### Creating Classification Models"
   ]
  },
  {
   "cell_type": "code",
   "execution_count": 204,
   "metadata": {},
   "outputs": [
    {
     "name": "stdout",
     "output_type": "stream",
     "text": [
      "\n",
      "Yelp Score: 0.73\n",
      "Amazon Score: 0.81\n",
      "IMDB Score: 0.72\n",
      "\n"
     ]
    }
   ],
   "source": [
    "yelp_classifier = LogisticRegression()\n",
    "yelp_classifier.fit(yelp_X_train, yelp_y_train)\n",
    "yelp_score = yelp_classifier.score (yelp_X_test, yelp_y_test)\n",
    "\n",
    "\n",
    "amazon_classifier = LogisticRegression()\n",
    "amazon_classifier.fit(amazon_X_train, amazon_y_train)\n",
    "amazon_score = amazon_classifier.score (amazon_X_test, amazon_y_test)\n",
    "\n",
    "imdb_classifier = LogisticRegression()\n",
    "imdb_classifier.fit(imdb_X_train, imdb_y_train)\n",
    "imdb_score = imdb_classifier.score (imdb_X_test, imdb_y_test)\n",
    "\n",
    "print(f\"\"\"\n",
    "Yelp Score: {yelp_score}\n",
    "Amazon Score: {amazon_score}\n",
    "IMDB Score: {imdb_score}\n",
    "\"\"\")"
   ]
  },
  {
   "cell_type": "markdown",
   "metadata": {},
   "source": [
    "### Practical Testing"
   ]
  },
  {
   "cell_type": "code",
   "execution_count": 205,
   "metadata": {},
   "outputs": [
    {
     "data": {
      "text/plain": [
       "array([0, 0])"
      ]
     },
     "execution_count": 205,
     "metadata": {},
     "output_type": "execute_result"
    }
   ],
   "source": [
    "yelp_test_sentence_1 = [\"Cold food\", \"Slow service\"]\n",
    "\n",
    "prediction_1 = vectorize_yelp.transform(yelp_test_sentence_1)\n",
    "yelp_classifier.predict(prediction_1)\n"
   ]
  },
  {
   "cell_type": "code",
   "execution_count": 206,
   "metadata": {},
   "outputs": [
    {
     "data": {
      "text/plain": [
       "array([1, 1])"
      ]
     },
     "execution_count": 206,
     "metadata": {},
     "output_type": "execute_result"
    }
   ],
   "source": [
    "yelp_test_sentence_2 = [\"Great meal\", \"Properly cooked meat\"]\n",
    "\n",
    "prediction_2 = vectorize_yelp.transform(yelp_test_sentence_2)\n",
    "\n",
    "yelp_classifier.predict(prediction_2)"
   ]
  }
 ],
 "metadata": {
  "interpreter": {
   "hash": "675380f53d324b81b6b80b1d083d12444c7c46c8d26714375f67f90ba34d297c"
  },
  "kernelspec": {
   "display_name": "Python 3.9.5 64-bit ('.venv': poetry)",
   "name": "python3"
  },
  "language_info": {
   "codemirror_mode": {
    "name": "ipython",
    "version": 3
   },
   "file_extension": ".py",
   "mimetype": "text/x-python",
   "name": "python",
   "nbconvert_exporter": "python",
   "pygments_lexer": "ipython3",
   "version": "3.9.5"
  },
  "orig_nbformat": 4
 },
 "nbformat": 4,
 "nbformat_minor": 2
}
